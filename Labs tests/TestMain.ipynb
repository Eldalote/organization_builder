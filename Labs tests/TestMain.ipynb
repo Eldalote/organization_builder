{
 "cells": [
  {
   "cell_type": "code",
   "execution_count": 78,
   "id": "local-overall",
   "metadata": {},
   "outputs": [],
   "source": [
    "from icecream import ic"
   ]
  },
  {
   "cell_type": "code",
   "execution_count": 87,
   "id": "departmental-option",
   "metadata": {},
   "outputs": [],
   "source": [
    "class UnitObject(object):    \n",
    "    def __init__(self, name, unittype):\n",
    "        self.UnitType = unittype\n",
    "        self.Name = name\n",
    "        self.SubUnits = []\n",
    "        self.Tags = []\n",
    "        self.Rank = None\n",
    "        \n",
    "    \n",
    "    def Add_SubUnit(self, subunit):\n",
    "        self.SubUnits.append(subunit)\n",
    "    def Remove_SubUnit(self, subunit):\n",
    "        pass\n",
    "    def print(self):\n",
    "        pass\n",
    "    def Add_Tag(self, tag):\n",
    "        self.Tags.append(tag)\n",
    "    def Remove_Tag(self, tag):\n",
    "        pass\n",
    "    def Check_HasTag(self, tag):\n",
    "        if self.Tags:\n",
    "            for item in self.Tags:\n",
    "                if item == tag:\n",
    "                    return 1\n",
    "        return 0\n",
    "    def Count_Tag(self, tag):\n",
    "        count = self.Check_HasTag(tag)\n",
    "        if self.SubUnits:\n",
    "            for unit in self.SubUnits:\n",
    "                count += unit.Count_Tag(tag)\n",
    "        return count\n",
    "    def Set_Rank(self, rank):\n",
    "        self.Rank = rank\n",
    "    def Set_Name(self, name):\n",
    "        self.Name = name\n",
    "    def Set_UnitType(self, unittype):\n",
    "        self.UnitType = unittype\n",
    "    "
   ]
  },
  {
   "cell_type": "code",
   "execution_count": 90,
   "id": "numeric-freedom",
   "metadata": {},
   "outputs": [],
   "source": [
    "Shield = UnitObject(\"Shield\", \"Human\")\n",
    "Shield.Add_Tag(\"Front Line\")"
   ]
  },
  {
   "cell_type": "code",
   "execution_count": 92,
   "id": "gross-soviet",
   "metadata": {},
   "outputs": [
    {
     "name": "stderr",
     "output_type": "stream",
     "text": [
      "ic| Shield.Count_Tag(\"Front Line\"): 1\n"
     ]
    },
    {
     "data": {
      "text/plain": [
       "1"
      ]
     },
     "execution_count": 92,
     "metadata": {},
     "output_type": "execute_result"
    }
   ],
   "source": [
    "ic(Shield.Count_Tag(\"Front Line\"))"
   ]
  },
  {
   "cell_type": "code",
   "execution_count": 93,
   "id": "waiting-laser",
   "metadata": {},
   "outputs": [],
   "source": [
    "ShieldTeam = UnitObject(\"ShieldTeam\", \"Team\")"
   ]
  },
  {
   "cell_type": "code",
   "execution_count": 94,
   "id": "celtic-union",
   "metadata": {},
   "outputs": [],
   "source": [
    "ShieldTeam.Add_SubUnit(Shield)"
   ]
  },
  {
   "cell_type": "code",
   "execution_count": 95,
   "id": "restricted-beatles",
   "metadata": {},
   "outputs": [],
   "source": [
    "ShieldTeam.Add_SubUnit(Shield)\n",
    "ShieldTeam.Add_SubUnit(Shield)\n",
    "ShieldTeam.Add_SubUnit(Shield)"
   ]
  },
  {
   "cell_type": "code",
   "execution_count": 97,
   "id": "german-bahrain",
   "metadata": {},
   "outputs": [
    {
     "name": "stderr",
     "output_type": "stream",
     "text": [
      "ic| ShieldTeam.Count_Tag(\"Front Line\"): 4\n"
     ]
    },
    {
     "data": {
      "text/plain": [
       "4"
      ]
     },
     "execution_count": 97,
     "metadata": {},
     "output_type": "execute_result"
    }
   ],
   "source": [
    "ic(ShieldTeam.Count_Tag(\"Front Line\"))"
   ]
  },
  {
   "cell_type": "code",
   "execution_count": 98,
   "id": "thousand-snake",
   "metadata": {},
   "outputs": [
    {
     "data": {
      "text/plain": [
       "4"
      ]
     },
     "execution_count": 98,
     "metadata": {},
     "output_type": "execute_result"
    }
   ],
   "source": [
    "Shield.Add_Tag(\"Soldier\")\n",
    "ShieldTeam.Count_Tag(\"Soldier\")"
   ]
  },
  {
   "cell_type": "code",
   "execution_count": null,
   "id": "stable-skating",
   "metadata": {},
   "outputs": [],
   "source": []
  }
 ],
 "metadata": {
  "kernelspec": {
   "display_name": "Python 3",
   "language": "python",
   "name": "python3"
  },
  "language_info": {
   "codemirror_mode": {
    "name": "ipython",
    "version": 3
   },
   "file_extension": ".py",
   "mimetype": "text/x-python",
   "name": "python",
   "nbconvert_exporter": "python",
   "pygments_lexer": "ipython3",
   "version": "3.9.2"
  }
 },
 "nbformat": 4,
 "nbformat_minor": 5
}
